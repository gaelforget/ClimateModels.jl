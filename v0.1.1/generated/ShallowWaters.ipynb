{
 "cells": [
  {
   "cell_type": "markdown",
   "source": [
    "# Shallow Water Model\n",
    "\n",
    "Here we setup, run and plot a two-dimensional shallow water model using [ShallowWaters.jl](https://github.com/milankl/ShallowWaters.jl)"
   ],
   "metadata": {}
  },
  {
   "outputs": [],
   "cell_type": "code",
   "source": [
    "using ClimateModels, Pkg, Plots, NetCDF, Suppressor"
   ],
   "metadata": {},
   "execution_count": null
  },
  {
   "cell_type": "markdown",
   "source": [
    "## Formulate Model"
   ],
   "metadata": {}
  },
  {
   "outputs": [],
   "cell_type": "code",
   "source": [
    "function SWM(x)\n",
    "    pth=pwd()\n",
    "    cd(joinpath(x.folder,string(x.ID)))\n",
    "    L_ratio = P.nx / P.ny\n",
    "    @suppress run_model(;P.nx,P.Lx,L_ratio,Ndays=P.nd,output=true) #note: this may take 10min depending on resolution\n",
    "    cd(pth)\n",
    "end\n",
    "\n",
    "P=(nx = 100, ny = 50, Lx = 2000e3, nd=200) #adjustable parameters"
   ],
   "metadata": {},
   "execution_count": null
  },
  {
   "cell_type": "markdown",
   "source": [
    "## Setup Model\n",
    "\n",
    "`ModelConfig` defines the model into data structure `sw`, which includes the online location for the model repository."
   ],
   "metadata": {}
  },
  {
   "outputs": [],
   "cell_type": "code",
   "source": [
    "pk=PackageSpec(url=\"https://github.com/milankl/ShallowWaters.jl\")\n",
    "sw=ModelConfig(model=pk,configuration=SWM);"
   ],
   "metadata": {},
   "execution_count": null
  },
  {
   "cell_type": "markdown",
   "source": [
    "The `setup` function then clones the online repository to a temporary folder."
   ],
   "metadata": {}
  },
  {
   "outputs": [],
   "cell_type": "code",
   "source": [
    "setup(sw)"
   ],
   "metadata": {},
   "execution_count": null
  },
  {
   "cell_type": "markdown",
   "source": [
    "To ensure that the chosen package version is being used (just in case another version of the package was already installed) one can do this:"
   ],
   "metadata": {}
  },
  {
   "outputs": [],
   "cell_type": "code",
   "source": [
    "pk=joinpath(sw.folder,string(sw.ID))\n",
    "@suppress Pkg.develop(path=pk)"
   ],
   "metadata": {},
   "execution_count": null
  },
  {
   "cell_type": "markdown",
   "source": [
    "## Run Model\n",
    "\n",
    "Within the `launch` command is where the model run (e.g. `SWM`) takes place."
   ],
   "metadata": {}
  },
  {
   "outputs": [],
   "cell_type": "code",
   "source": [
    "using ShallowWaters\n",
    "\n",
    "launch(sw);\n",
    "\n",
    "#Pkg.free(\"ShallowWaters\")"
   ],
   "metadata": {},
   "execution_count": null
  },
  {
   "cell_type": "markdown",
   "source": [
    "## Plot Results\n",
    "\n",
    "Afterwards, one often replays model output for further analysis.\n",
    "Here we plot the random walker path from the `netcdf` output file."
   ],
   "metadata": {}
  },
  {
   "outputs": [],
   "cell_type": "code",
   "source": [
    "ncfile = NetCDF.open(joinpath(pk,\"run0000\",\"sst.nc\"))\n",
    "sst = ncfile.vars[\"sst\"][:,:,:]\n",
    "contourf(sst[:,:,end]',c = :grays, clims=(-1.,1.))"
   ],
   "metadata": {},
   "execution_count": null
  },
  {
   "cell_type": "markdown",
   "source": [
    "Or to create an animated `gif`\n",
    "\n",
    "```\n",
    "anim = @animate for t ∈ 1:P.nd+1\n",
    "   contourf(sst[:,:,t+1]',c = :grays, clims=(-1.,1.))\n",
    "end\n",
    "gif(anim, \"sst.gif\", fps = 40)\n",
    "```"
   ],
   "metadata": {}
  },
  {
   "cell_type": "markdown",
   "source": [
    "---\n",
    "\n",
    "*This notebook was generated using [Literate.jl](https://github.com/fredrikekre/Literate.jl).*"
   ],
   "metadata": {}
  }
 ],
 "nbformat_minor": 3,
 "metadata": {
  "language_info": {
   "file_extension": ".jl",
   "mimetype": "application/julia",
   "name": "julia",
   "version": "1.6.0"
  },
  "kernelspec": {
   "name": "julia-1.6",
   "display_name": "Julia 1.6.0",
   "language": "julia"
  }
 },
 "nbformat": 4
}

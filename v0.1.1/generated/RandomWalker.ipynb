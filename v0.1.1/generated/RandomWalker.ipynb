{
 "cells": [
  {
   "cell_type": "markdown",
   "source": [
    "# Random Walker\n",
    "\n",
    "Here we setup, run and plot a two-dimensional random walker path."
   ],
   "metadata": {}
  },
  {
   "outputs": [],
   "cell_type": "code",
   "source": [
    "using ClimateModels, Plots, CSV, DataFrames"
   ],
   "metadata": {},
   "execution_count": null
  },
  {
   "cell_type": "markdown",
   "source": [
    "## Formulate Model\n",
    "\n",
    "This simple model steps randomly, `N` times, on a `x,y` plane starting from `0,0`."
   ],
   "metadata": {}
  },
  {
   "outputs": [],
   "cell_type": "code",
   "source": [
    "function RandomWalker(x)\n",
    "    #model run\n",
    "    N=10000\n",
    "    m=zeros(N,2)\n",
    "    [m[i,j]=m[i-1,j]+rand((-1,1)) for j in 1:2, i in 2:N]\n",
    "\n",
    "    #output to file\n",
    "    df = DataFrame(x = m[:,1], y = m[:,2])\n",
    "    fil=joinpath(x.folder,string(x.ID),\"RandomWalker.csv\")\n",
    "    CSV.write(fil, df)\n",
    "\n",
    "    return m\n",
    "end"
   ],
   "metadata": {},
   "execution_count": null
  },
  {
   "cell_type": "markdown",
   "source": [
    "## Setup And Run Model\n",
    "\n",
    "- `ModelConfig` defines the model into data structure `m`\n",
    "- `setup` prepares the model to run in a temporary folder\n",
    "- `launch` runs the `RandomWalker` model which writes results to file\n",
    "\n",
    "_Note: `RandomWalker` returns results also directly as an Array, but this is generally not an option for most, larger, models_"
   ],
   "metadata": {}
  },
  {
   "outputs": [],
   "cell_type": "code",
   "source": [
    "m=ModelConfig(model=RandomWalker)\n",
    "setup(m)\n",
    "xy=launch(m);"
   ],
   "metadata": {},
   "execution_count": null
  },
  {
   "cell_type": "markdown",
   "source": [
    "## Plot Results\n",
    "\n",
    "Afterwards, one often uses model output for further analysis. Here we plot the random walker path from the `csv` output file."
   ],
   "metadata": {}
  },
  {
   "outputs": [],
   "cell_type": "code",
   "source": [
    "fil=joinpath(m.folder,string(m.ID),\"RandomWalker.csv\")\n",
    "output = CSV.File(fil) |> DataFrame\n",
    "plot(output.x,output.y) #, fmt=:png)"
   ],
   "metadata": {},
   "execution_count": null
  },
  {
   "cell_type": "markdown",
   "source": [
    "---\n",
    "\n",
    "*This notebook was generated using [Literate.jl](https://github.com/fredrikekre/Literate.jl).*"
   ],
   "metadata": {}
  }
 ],
 "nbformat_minor": 3,
 "metadata": {
  "language_info": {
   "file_extension": ".jl",
   "mimetype": "application/julia",
   "name": "julia",
   "version": "1.6.0"
  },
  "kernelspec": {
   "name": "julia-1.6",
   "display_name": "Julia 1.6.0",
   "language": "julia"
  }
 },
 "nbformat": 4
}

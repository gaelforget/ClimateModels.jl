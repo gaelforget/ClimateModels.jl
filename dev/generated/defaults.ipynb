{
 "cells": [
  {
   "cell_type": "markdown",
   "source": [
    "# Default Methods\n",
    "\n",
    "The defaults assume that the model is a `Julia` package downloaded\n",
    "(via `git clone`) from online repository (its `url`). The cloned\n",
    "package's `test/runtests.jl` is then used to _run the model_."
   ],
   "metadata": {}
  },
  {
   "outputs": [
    {
     "name": "stdout",
     "output_type": "stream",
     "text": [
      "  ID            = 4999bf71-fc12-4b63-aede-683978f29d8d\n",
      "  model         = https://github.com/JuliaOcean/AirSeaFluxes.jl\n",
      "  configuration = anonymous\n",
      "  status        = String[]\n",
      "  folder        = /tmp\n",
      "  log subfolder = 4999bf71-fc12-4b63-aede-683978f29d8d/log\n",
      "  task(s)       = run_the_tests\n",
      "  task(s)       = pausing now\n"
     ]
    },
    {
     "output_type": "execute_result",
     "data": {
      "text/plain": "\"no task left in pipeline\""
     },
     "metadata": {},
     "execution_count": 1
    }
   ],
   "cell_type": "code",
   "source": [
    "using ClimateModels, Pkg\n",
    "\n",
    "url=PackageSpec(url=\"https://github.com/JuliaOcean/AirSeaFluxes.jl\")\n",
    "\n",
    "mo=ModelConfig(model=url)\n",
    "setup(mo)\n",
    "pause(mo)\n",
    "show(mo)\n",
    "launch(mo)\n",
    "monitor(mo)\n",
    "clean(mo)"
   ],
   "metadata": {},
   "execution_count": 1
  },
  {
   "cell_type": "markdown",
   "source": [
    "---\n",
    "\n",
    "*This notebook was generated using [Literate.jl](https://github.com/fredrikekre/Literate.jl).*"
   ],
   "metadata": {}
  }
 ],
 "nbformat_minor": 3,
 "metadata": {
  "language_info": {
   "file_extension": ".jl",
   "mimetype": "application/julia",
   "name": "julia",
   "version": "1.6.0"
  },
  "kernelspec": {
   "name": "julia-1.6",
   "display_name": "Julia 1.6.0",
   "language": "julia"
  }
 },
 "nbformat": 4
}

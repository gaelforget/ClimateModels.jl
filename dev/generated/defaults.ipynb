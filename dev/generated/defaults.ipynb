{
 "cells": [
  {
   "cell_type": "markdown",
   "source": [
    "# Default Behavior (Julia Package)\n",
    "\n",
    "By default it is assumed that:\n",
    "\n",
    "- The model is a `Julia` package to be downloaded via `git clone` from the repository `URL`.\n",
    "- The cloned package's `test/runtests.jl` is then used to _run the model_.\n",
    "\n",
    "But it should immediately be noted that anything in the `ClimateModels.jl` interface can be customized differently.\n",
    "\n",
    "This will become clear in the other examples that largely differ in the specifics while using the same, uniform, interface."
   ],
   "metadata": {}
  },
  {
   "outputs": [],
   "cell_type": "code",
   "source": [
    "using ClimateModels, Pkg"
   ],
   "metadata": {},
   "execution_count": 1
  },
  {
   "outputs": [
    {
     "output_type": "execute_result",
     "data": {
      "text/plain": "\u001b[0m  ID            = \u001b[34m83139d58-355b-4ada-b545-824f8b95e6fe\u001b[39m\n\u001b[0m  model         = \u001b[34mhttps://github.com/JuliaOcean/AirSeaFluxes.jl\u001b[39m\n\u001b[0m  configuration = \u001b[34manonymous\u001b[39m\n\u001b[0m  run folder    = \u001b[34m/tmp/83139d58-355b-4ada-b545-824f8b95e6fe\u001b[39m\n\u001b[0m  log subfolder = \u001b[34m/tmp/83139d58-355b-4ada-b545-824f8b95e6fe/log\u001b[39m\n"
     },
     "metadata": {},
     "execution_count": 2
    }
   ],
   "cell_type": "code",
   "source": [
    "url=PackageSpec(url=\"https://github.com/JuliaOcean/AirSeaFluxes.jl\")\n",
    "MC=ModelConfig(model=url)"
   ],
   "metadata": {},
   "execution_count": 2
  },
  {
   "outputs": [],
   "cell_type": "code",
   "source": [
    "setup(MC)\n",
    "build(MC)\n",
    "launch(MC)"
   ],
   "metadata": {},
   "execution_count": 3
  },
  {
   "cell_type": "markdown",
   "source": [
    "See run folder for workflow output:"
   ],
   "metadata": {}
  },
  {
   "outputs": [
    {
     "name": "stdout",
     "output_type": "stream",
     "text": [
      "  ID            = 83139d58-355b-4ada-b545-824f8b95e6fe\n",
      "  model         = https://github.com/JuliaOcean/AirSeaFluxes.jl\n",
      "  configuration = anonymous\n",
      "  run folder    = /tmp/83139d58-355b-4ada-b545-824f8b95e6fe\n",
      "  log subfolder = /tmp/83139d58-355b-4ada-b545-824f8b95e6fe/log\n"
     ]
    }
   ],
   "cell_type": "code",
   "source": [
    "show(MC)"
   ],
   "metadata": {},
   "execution_count": 4
  },
  {
   "cell_type": "markdown",
   "source": [
    "---\n",
    "\n",
    "*This notebook was generated using [Literate.jl](https://github.com/fredrikekre/Literate.jl).*"
   ],
   "metadata": {}
  }
 ],
 "nbformat_minor": 3,
 "metadata": {
  "language_info": {
   "file_extension": ".jl",
   "mimetype": "application/julia",
   "name": "julia",
   "version": "1.6.2"
  },
  "kernelspec": {
   "name": "julia-1.6",
   "display_name": "Julia 1.6.2",
   "language": "julia"
  }
 },
 "nbformat": 4
}

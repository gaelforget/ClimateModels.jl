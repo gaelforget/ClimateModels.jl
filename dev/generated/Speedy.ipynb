{
 "cells": [
  {
   "cell_type": "markdown",
   "source": [
    "# SPEEDY Atmosphere (Fortran)\n",
    "\n",
    "Here we setup, run and plot a fast atmospheric model called [speedy.f90](https://github.com/samhatfield/speedy.f90)\n",
    "which stands for _Simplified Parameterizations, privitivE-Equation DYnamics_. Documentation can be found\n",
    "[here](https://samhatfield.co.uk/speedy.f90/) and [here](https://www.ictp.it/research/esp/models/speedy.aspx)."
   ],
   "metadata": {}
  },
  {
   "outputs": [],
   "cell_type": "code",
   "source": [
    "using ClimateModels, Pkg, Plots, NetCDF\n",
    "using Suppressor, OrderedCollections, Git, UUIDs\n",
    "\n",
    "import ClimateModels: build, setup, launch"
   ],
   "metadata": {},
   "execution_count": null
  },
  {
   "cell_type": "markdown",
   "source": [
    "## Define Model Interface"
   ],
   "metadata": {}
  },
  {
   "outputs": [],
   "cell_type": "code",
   "source": [
    "\"\"\"\n",
    "    struct SPEEDY_config <: AbstractModelConfig\n",
    "\n",
    "Concrete type of `AbstractModelConfig` for `SPEEDY` model.\n",
    "\"\"\"\n",
    "Base.@kwdef struct SPEEDY_config <: AbstractModelConfig\n",
    "    model :: String = \"speedy\"\n",
    "    configuration :: String = \"default\"\n",
    "    options :: OrderedDict{Any,Any} = OrderedDict{Any,Any}()\n",
    "    inputs :: OrderedDict{Any,Any} = OrderedDict{Any,Any}()\n",
    "    outputs :: OrderedDict{Any,Any} = OrderedDict{Any,Any}()\n",
    "    status :: OrderedDict{Any,Any} = OrderedDict{Any,Any}()\n",
    "    channel :: Channel{Any} = Channel{Any}(10)\n",
    "    folder :: String = tempdir()\n",
    "    ID :: UUID = UUIDs.uuid4()\n",
    "end\n",
    "\n",
    "function setup(x :: SPEEDY_config)\n",
    "    !isdir(joinpath(x.folder)) ? mkdir(joinpath(x.folder)) : nothing\n",
    "    pth=joinpath(x.folder,string(x.ID))\n",
    "    !isdir(pth) ? mkdir(pth) : nothing\n",
    "\n",
    "    url=\"https://github.com/gaelforget/speedy.f90\"\n",
    "    @suppress run(`$(git()) clone -b more_diags $url $pth`)\n",
    "\n",
    "    !isdir(joinpath(pth,\"log\")) ? git_log_init(x) : nothing\n",
    "\n",
    "    put!(x.channel,launch)\n",
    "end\n",
    "\n",
    "function build(x :: SPEEDY_config)\n",
    "    pth0=pwd()\n",
    "    pth=joinpath(x.folder,string(x.ID))\n",
    "\n",
    "    cd(pth)\n",
    "    #ENV[\"NETCDF\"] = \"/usr/local/Cellar/netcdf/4.7.3_2/\" #may differ between computers\n",
    "    ENV[\"NETCDF\"] = \"/usr/\" #may differ between computers\n",
    "    @suppress run(`bash build.sh`)\n",
    "    cd(pth0)\n",
    "end\n",
    "\n",
    "function launch(x::SPEEDY_config)\n",
    "    pth0=pwd()\n",
    "    pth=joinpath(x.folder,string(x.ID))\n",
    "    cd(pth)\n",
    "    @suppress run(`bash run.sh`)\n",
    "    cd(pth0)\n",
    "end"
   ],
   "metadata": {},
   "execution_count": null
  },
  {
   "cell_type": "markdown",
   "source": [
    "## Setup, Build, And Launch"
   ],
   "metadata": {}
  },
  {
   "outputs": [],
   "cell_type": "code",
   "source": [
    "MC=SPEEDY_config()\n",
    "setup(MC)\n",
    "build(MC)\n",
    "launch(MC)"
   ],
   "metadata": {},
   "execution_count": null
  },
  {
   "cell_type": "markdown",
   "source": [
    "## Read Model Output And Plot"
   ],
   "metadata": {}
  },
  {
   "outputs": [],
   "cell_type": "code",
   "source": [
    "function plot(x::SPEEDY_config,varname=\"hfluxn\")\n",
    "    pth=joinpath(MC.folder,string(MC.ID))\n",
    "    ncfile = NetCDF.open(joinpath(pth,\"rundir\",\"198201072200.nc\"))\n",
    "    tmp = ncfile.vars[varname][:,:,1,1]\n",
    "    contourf(tmp', frmt=:png,title=varname)\n",
    "end\n",
    "\n",
    "plot(MC,\"hfluxn\")"
   ],
   "metadata": {},
   "execution_count": null
  },
  {
   "cell_type": "markdown",
   "source": [
    "## Model Parameters"
   ],
   "metadata": {}
  },
  {
   "outputs": [],
   "cell_type": "code",
   "source": [
    "import MITgcmTools: read_namelist\n",
    "p=dirname(pathof(ClimateModels))\n",
    "include(joinpath(p,\"../examples/helper_functions.jl\"))\n",
    "\n",
    "nml=read_namelist(MC)\n",
    "nml[:params]"
   ],
   "metadata": {},
   "execution_count": null
  },
  {
   "cell_type": "markdown",
   "source": [
    "## Time Steps, etc"
   ],
   "metadata": {}
  },
  {
   "outputs": [],
   "cell_type": "code",
   "source": [
    "nml[:date]"
   ],
   "metadata": {},
   "execution_count": null
  },
  {
   "cell_type": "markdown",
   "source": [
    "---\n",
    "\n",
    "*This notebook was generated using [Literate.jl](https://github.com/fredrikekre/Literate.jl).*"
   ],
   "metadata": {}
  }
 ],
 "nbformat_minor": 3,
 "metadata": {
  "language_info": {
   "file_extension": ".jl",
   "mimetype": "application/julia",
   "name": "julia",
   "version": "1.6.1"
  },
  "kernelspec": {
   "name": "julia-1.6",
   "display_name": "Julia 1.6.1",
   "language": "julia"
  }
 },
 "nbformat": 4
}
